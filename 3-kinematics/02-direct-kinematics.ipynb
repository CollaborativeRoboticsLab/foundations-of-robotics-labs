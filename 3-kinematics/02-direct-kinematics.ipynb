{
    "cells": [
        {
            "cell_type": "markdown",
            "metadata": {},
            "source": [
                "# Direct Kinematics\n",
                "\n",
                "[![nbviewer](https://raw.githubusercontent.com/jupyter/design/master/logos/Badges/nbviewer_badge.svg)](https://nbviewer.jupyter.org/github/AIResearchLab/foundations-of-robotics-labs/blob/master/3-kinematics/02-direct-kinematics.ipynb)\n",
                "[![Binder](https://mybinder.org/badge_logo.svg)](https://mybinder.org/v2/gh/AIResearchLab/foundations-of-robotics-labs/master?filepath=3-kinematics/02-direct-kinematics.ipynb)\n",
                "\n",
                "This notebook looks at direct kinematics. The notebook contains functions to compute the position of the `End-effector (EE)` of the Kinova Gen3 lite from the joint positions.\n",
                "\n",
                "> The purpose of this notebook is to start understanding the kinematics of a robot manipulator such as the Kinova Gen3 lite."
            ]
        },
        {
            "cell_type": "markdown",
            "metadata": {},
            "source": [
                "## What is Kinematics?\n",
                "\n",
                "Kinematics is the study of **motion without considering the forces that cause the motion**. In robotics, kinematics is used to describe the motion of a robot manipulator without considering the forces that cause the motion. For the purposes of robot manipulators, kinematics is divided into two types: `direct kinematics` and `inverse kinematics`.\n",
                "\n",
                "1. **Direct Kinematics** - Direct kinematics is the process of finding the position and orientation of the end-effector of a robot manipulator given the joint positions.\n",
                "2. **Inverse Kinematics** - Inverse kinematics is the process of finding the joint positions of a robot manipulator given the position and orientation of the end-effector.\n",
                "\n",
                "The relationship between the joint positions and the position and orientation of the end-effector is described by the kinematic equations of the robot manipulator. A neat way to represent the kinematic equations of a robot manipulator is by using the `Denavit-Hartenberg (DH) parameters`."
            ]
        },
        {
            "cell_type": "markdown",
            "metadata": {},
            "source": [
                "## An Introduction to DH parameters\n",
                "\n",
                "**can't see the video? click [here](https://www.youtube.com/embed/yRGlxcqWOSs)**\n",
                "\n",
                "<iframe width=\"936\" height=\"527\" src=\"https://www.youtube.com/embed/yRGlxcqWOSs\" title=\"Denavit-Hartenberg notation\" frameborder=\"0\" allow=\"accelerometer; autoplay; clipboard-write; encrypted-media; gyroscope; picture-in-picture; web-share\" allowfullscreen></iframe>"
            ]
        },
        {
            "cell_type": "markdown",
            "metadata": {},
            "source": [
                "### Direct Kinematics\n",
                "\n",
                "The selected Python code below defines a function named `dh` that calculates a [Denavit-Hartenberg (DH) matrix](https://en.wikipedia.org/wiki/Denavit%E2%80%93Hartenberg_parameters). The DH matrix is a transformation matrix used in robotics to simplify the process of calculating the position and orientation of robot manipulators.\n",
                "\n",
                "The general form of the matrix equation for the DH transformation matrix is as follows:\n",
                "\n",
                "$$ T = R_z(\\theta) \\cdot T_z(d) \\cdot T_x(a) \\cdot R_x(\\alpha) $$\n",
                "\n",
                "$$ T = \\begin{bmatrix} \\cos(\\theta) & -\\sin(\\theta)\\cos(\\alpha) & \\sin(\\theta)\\sin(\\alpha) & a \\cos(\\theta) \\\\ \\sin(\\theta) & \\cos(\\theta)\\cos(\\alpha) & -\\cos(\\theta)\\sin(\\alpha) & a \\sin(\\theta) \\\\ 0 & \\sin(\\alpha) & \\cos(\\alpha) & d \\\\ 0 & 0 & 0 & 1 \\end{bmatrix} $$\n",
                "\n",
                "where:\n",
                "\n",
                "- $ R_z(\\theta) $ is a rotation matrix about the z-axis by an angle $\\theta$.\n",
                "- $ T_z(d) $ is a translation matrix along the z-axis by a distance $d$.\n",
                "- $ T_x(a) $ is a translation matrix along the x-axis by a distance $a$.\n",
                "- $ R_x(\\alpha) $ is a rotation matrix about the x-axis by an angle $\\alpha$.\n",
                "\n",
                "The function `dh` takes four arguments: `theta`, `d`, `a`, and `alpha`. These parameters represent joint angle, link offset, link length, and link twist, respectively, in the DH convention. The parameters `d` and `a` are expected to be in millimeters, while `theta` and `alpha` are expected to be in degrees.\n",
                "\n",
                "Inside the function, the `math.radians` function is used to convert `theta` and `alpha` from degrees to radians, as trigonometric functions in Python's `math` and `numpy` libraries expect angles to be in radians.\n",
                "\n",
                "The function then returns a 4x4 numpy array, which represents the DH transformation matrix. This matrix is used to transform coordinates from one frame to another in a robotic manipulator. The matrix is composed of rotation and displacement components, which are calculated using the input parameters and basic trigonometric functions.\n",
                "\n",
                "[![DH Diagram Wikipedia](https://upload.wikimedia.org/wikipedia/commons/3/3f/Sample_Denavit-Hartenberg_Diagram.png)](https://en.wikipedia.org/wiki/Denavit%E2%80%93Hartenberg_parameters#)"
            ]
        },
        {
            "cell_type": "code",
            "execution_count": null,
            "metadata": {},
            "outputs": [],
            "source": [
                "import math\n",
                "import numpy as np\n",
                "\n",
                "# The function dh(theta, d, a, alpha)\n",
                "def dh(theta: float, d: float, a: float, alpha: float) -> np.array:\n",
                "    \"\"\"\n",
                "    This function returns the denavit hartenberg parameter matrix\n",
                "    from a given theta, d, a, alpha\n",
                "\n",
                "    Args:\n",
                "        theta (float): the angle in degrees\n",
                "        d (float): the offset in mm\n",
                "        a (float): the length in mm\n",
                "        alpha (float): the angle in degrees\n",
                "\n",
                "    Returns:\n",
                "        numpy array: the denavit hartenberg parameter matrix\n",
                "    \"\"\"\n",
                "\n",
                "    # Convert degrees to radians\n",
                "    theta = math.radians(theta)\n",
                "    alpha = math.radians(alpha)\n",
                "\n",
                "    # return the denavit hartenberg parameter matrix\n",
                "    return np.array([\n",
                "        [np.cos(theta), -1*np.sin(theta)*np.cos(alpha),    np.sin(theta)*np.sin(alpha), a*np.cos(theta)],\n",
                "        [np.sin(theta),    np.cos(theta)*np.cos(alpha), -1*np.cos(theta)*np.sin(alpha), a*np.sin(theta)],\n",
                "        [            0,                  np.sin(alpha),                  np.cos(alpha),               d],\n",
                "        [            0,                              0,                              0,               1]\n",
                "    ])"
            ]
        },
        {
            "cell_type": "markdown",
            "metadata": {},
            "source": [
                "## DH in DK\n",
                "\n",
                "The [direct kinematics (DK)](https://en.wikipedia.org/wiki/Forward_kinematics) problem is to find the position and orientation of the end-effector (EE) of a robot manipulator given the joint angles. The DH matrix is used to calculate the transformation from the base frame to the end-effector frame. By multiplying the DH matrices for each joint, we can obtain the transformation matrix from the base frame to the end-effector frame."
            ]
        },
        {
            "cell_type": "markdown",
            "metadata": {},
            "source": [
                "### A model Example\n",
                "\n",
                "![2 DoF Example](./docs/images/2dof-figure.png)"
            ]
        },
        {
            "cell_type": "markdown",
            "metadata": {},
            "source": [
                "Suppose a robot manipulator has three joints with DH parameters as follows:\n",
                "\n",
                "- Joint 1: theta=40, d=1000, a=0, alpha=0\n",
                "- Joint 2: theta=10, d=1000, a=0, alpha=0\n",
                "\n",
                "The robot would look like this:\n",
                "\n",
                "> ***Run the below cells to see the 'computer model' of the robot***"
            ]
        },
        {
            "cell_type": "code",
            "execution_count": null,
            "metadata": {},
            "outputs": [],
            "source": [
                "# install the robotics toolbox for python\n",
                "# this library is helpful for kinematics and dynamics of robot manipulators\n",
                "# more info at:\n",
                "# https://petercorke.github.io/robotics-toolbox-python/index.html\n",
                "%pip install roboticstoolbox-python"
            ]
        },
        {
            "cell_type": "code",
            "execution_count": null,
            "metadata": {},
            "outputs": [],
            "source": [
                "import math\n",
                "import roboticstoolbox as rtb # load the robotics toolbox\n",
                "\n",
                "# the robot model can be defined using the the robotics toolbox\n",
                "# The DHRobot object stores the joint information for the robot\n",
                "# RevoluteDH objects can be used to represent each revolute joint in the robot model\n",
                "# DH parameters are used to define the robot joint relationships\n",
                "robot_2dof = rtb.DHRobot(\n",
                "    [\n",
                "        # the RevoluteDH class represents a revolute joint using DH parameters\n",
                "        # this is a list of 2 joints representing 2 degrees of freedom (DOF)\n",
                "        rtb.RevoluteDH(\n",
                "            d = 0,\n",
                "            alpha = 0,\n",
                "            a = 1, # note that the dimensions are in m instead of mm\n",
                "            # offset = math.radians(0)\n",
                "        ),\n",
                "        rtb.RevoluteDH(\n",
                "            d = 0,\n",
                "            alpha = 0,\n",
                "            a = 1,\n",
                "            # offset = math.radians(0)\n",
                "        )\n",
                "    ],\n",
                "    name = \"Two-Link Manipulator\"\n",
                ")\n",
                "\n",
                "# this will print the robot model details\n",
                "print(robot_2dof)\n",
                "\n",
                "# this will plot the robot model graphically\n",
                "q = [40.0, 10.0]\n",
                "robot_2dof.plot(q, limits=[-2.0, 2.0, -2.0, 2.0, 0.0, 0.5])"
            ]
        },
        {
            "cell_type": "markdown",
            "metadata": {},
            "source": [
                "#### Model Function for Direct Kinematics\n",
                "\n",
                "The function `dk` models the two joint manipulator example. The function returns the end effector pose given input joint angles. This model computes direct kinematics. "
            ]
        },
        {
            "cell_type": "code",
            "execution_count": null,
            "metadata": {},
            "outputs": [],
            "source": [
                "# Function dk(t1, t2)\n",
                "# Arguments: Theta 1, Theta 2 in degrees.\n",
                "# Output: Vector [x, y, z, w, p, r] in mm and degrees.\n",
                "def dk(t1: float, t2: float) -> np.array:\n",
                "    \"\"\"\n",
                "    The function returns the pose\n",
                "    of a 2 DOF robot end effector\n",
                "    using direct kinematics\n",
                "\n",
                "    Args:\n",
                "        t1 (float): angle of joint 1 in radians\n",
                "        t2 (float): angle of joint 2 in radians\n",
                "\n",
                "    Returns:\n",
                "        numpy array: the pose and orientation\n",
                "    \"\"\"\n",
                "\n",
                "    # Denavit-Hartenberg parameters for the 3 DOF robot\n",
                "    # end effector: H10 * H21\n",
                "    H10 = dh(t1,0, 1, 0)\n",
                "    H21 = dh(t2,0, 1, 0)\n",
                "    # the tool has a length of 100 mm\n",
                "    Htool3 = dh(0, 100, 0, 0)\n",
                "\n",
                "    # matrix multiplication to get the pose\n",
                "    # uses numpy's matrix multiplication\n",
                "    # H = H10 * H21 * Htool3\n",
                "    H = np.matmul(H10, H21)\n",
                "    H = np.matmul(H, Htool3)\n",
                "\n",
                "    if abs(H[2,0]) == 1:\n",
                "        p = -H[2,0]*np.pi/2\n",
                "        w = 0 # valeur arbitraire, on choisit w = 0\n",
                "        r = np.degrees(np.arctan2(-H[2,0]*H[1,2], H[1,1])) #*180/np.pi\n",
                "    else:\n",
                "        p = np.arctan2(-H[2,0], math.sqrt(math.pow(H[0,0],2)+math.pow(H[1,0],2)))\n",
                "        cp = np.cos(p)\n",
                "        r = np.arctan2(H[1,0]/cp, H[0,0]/cp)\n",
                "        w = np.arctan2(H[2,1]/cp, H[2,2]/cp)\n",
                "\n",
                "        p = np.degrees(p)\n",
                "        r = np.degrees(r)\n",
                "        w = np.degrees(w)\n",
                "\n",
                "    # return the position and orientation of the end effector at the end of the tool\n",
                "    return np.array([H[0,3], H[1,3], H[2,3], w, p, r])"
            ]
        },
        {
            "cell_type": "markdown",
            "metadata": {},
            "source": [
                "#### Try some Joint Angles\n",
                "\n",
                "> ***Run the below cells to see the robot at different joint angles***"
            ]
        },
        {
            "cell_type": "code",
            "execution_count": null,
            "metadata": {},
            "outputs": [],
            "source": [
                "# Test of the function dk(t1, t2)\n",
                "pose = dk(40, 10)\n",
                "\n",
                "# print the end effector pose\n",
                "print(pose)\n",
                "# you should try angles passed as parameters to dk(t1, t2).\n",
                "# Try with several values to validate your calculations."
            ]
        },
        {
            "cell_type": "markdown",
            "metadata": {},
            "source": [
                "## Trying Direct Kinematics with the Kinova Gen3 lite\n",
                "\n",
                "### Measure Directly\n",
                "\n",
                "Measure the arm joint angles:\n",
                "\n",
                "1. Find the DH parameters for the Kinova Gen3 lite.\n",
                "1. Move to a desired end effector position manually using the gamepad controller and measure the joint angles using the kinova web interface.\n",
                "1. Then, use the joint angles to calculate the end effector position using the robotics toolbox and direct kinematics function."
            ]
        },
        {
            "cell_type": "markdown",
            "metadata": {},
            "source": [
                "#### Gen 3 lite robot model\n",
                "\n",
                "The Gen 3 lite DH design has been published in the datasheet. The datasheet for the Kinova Gen3 lite can be found online at the Kinova website. \n",
                "\n",
                "> **Hints:**\n",
                ">\n",
                "> - **The DH parameters for the Kinova Gen3 lite can be found in the datasheet**\n",
                "> - **Use the above 2DoF robot model code as an example**\n",
                "\n",
                "<!-- | Joint | theta | d | a | alpha |\n",
                "|-------|-------|---|---|-------|\n",
                "| 1     | 0     | 128.3 + 115.0 | 0 | 90 |\n",
                "| 2     | 90    | 30 | 280 | 180 |\n",
                "| 3     | 90    | 20 | 0 | 90 |\n",
                "| 4     | 90    | 140 + 105 | 0 | 90 |\n",
                "| 5     | 180   | 28.5 + 28.5 | 0 | 90 |\n",
                "| 6     | 90    | 105 + 130 | 0 | 0 | -->\n"
            ]
        },
        {
            "cell_type": "code",
            "execution_count": null,
            "metadata": {},
            "outputs": [],
            "source": [
                "import math\n",
                "import numpy as np\n",
                "import roboticstoolbox as rtb\n",
                "\n",
                "'''\n",
                "Add your code in this cell for step 1\n",
                "'''\n",
                "\n",
                "# load the gen 3 lite robot model from the robot toolbox\n",
                "# the DH parameters where sourced from the user manual for the Kinova gen 3 lite robot manipulator\n",
                "gen3_lite = rtb.DHRobot(\n",
                "    [\n",
                "        # Add a list of joint definitions using the DH parameters\n",
                "        # for the Kinova gen 3 lite robot manipulator\n",
                "        # for example:\n",
                "        #\n",
                "        # rtb.RevoluteDH(d = 0.243, alpha = math.radians(90), a = 0),\n",
                "        # etc...\n",
                "        #\n",
                "        # there are 6 joints in total\n",
                "    ],\n",
                "    name = \"gen3_lite\"\n",
                ")\n",
                "\n",
                "print(gen3_lite)\n",
                "\n",
                "# plot the robot model with some example joint angles\n",
                "# an example with the same angles in j1, j3, j4, and j6\n",
                "p_4 = math.radians(45)\n",
                "\n",
                "# create the joint angles array\n",
                "# q = np.array([0, 0, 0, 0, 0, 0])\n",
                "q = np.array([p_4, 0, p_4, p_4, 0, p_4])\n",
                "\n",
                "# plot the arm\n",
                "gen3_lite.plot(q, limits=[-0.4, 0.4, -0.4, 0.4, -0.6, 0.6])"
            ]
        },
        {
            "cell_type": "markdown",
            "metadata": {},
            "source": [
                "### Using the DH function for the Gen3 lite\n",
                "\n",
                "The function `dh` is used to calculate the transformation matrix for each joint of the Kinova Gen3 lite. The transformation matrices are then multiplied to obtain the transformation from the base frame to the end-effector frame.\n",
                "\n"
            ]
        },
        {
            "cell_type": "code",
            "execution_count": null,
            "metadata": {},
            "outputs": [],
            "source": [
                "'''\n",
                "Find the end effector pose given the measured joint angles\n",
                "'''\n",
                "\n",
                "# create an array of joint angles\n",
                "# for example:\n",
                "#\n",
                "# joint_angles = np.array([0,0,0,0,0,0])\n",
                "\n",
                "# plot the robot model\n",
                "gen3_lite.plot(joint_angles, limits=[-0.4, 0.4, -0.4, 0.4, -0.6, 0.6])\n",
                "\n",
                "# get the end effector pose\n",
                "pose = gen3_lite.fkine(joint_angles)\n",
                "\n",
                "# print the end effector pose\n",
                "print(pose.t)"
            ]
        },
        {
            "cell_type": "markdown",
            "metadata": {},
            "source": [
                "### "
            ]
        }
    ],
    "metadata": {
        "kernelspec": {
            "display_name": "Python 3",
            "language": "python",
            "name": "python3"
        },
        "language_info": {
            "codemirror_mode": {
                "name": "ipython",
                "version": 3
            },
            "file_extension": ".py",
            "mimetype": "text/x-python",
            "name": "python",
            "nbconvert_exporter": "python",
            "pygments_lexer": "ipython3",
            "version": "3.8.10"
        }
    },
    "nbformat": 4,
    "nbformat_minor": 4
}
