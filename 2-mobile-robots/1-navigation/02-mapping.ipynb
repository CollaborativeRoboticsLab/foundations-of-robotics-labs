{
    "cells": [
        {
            "cell_type": "markdown",
            "metadata": {},
            "source": [
                "# Mapping\n",
                "\n",
                "[![nbviewer](https://raw.githubusercontent.com/jupyter/design/master/logos/Badges/nbviewer_badge.svg)](https://nbviewer.jupyter.org/github/CollaborativeRoboticsLab/foundations-of-robotics-labs/blob/master/2-mobile-robots/1-navigation/02-mapping.ipynb)\n",
                "[![Binder](https://mybinder.org/badge_logo.svg)](https://mybinder.org/v2/gh/CollaborativeRoboticsLab/foundations-of-robotics-labs/master?filepath=2-mobile-robots/1-navigation/02-mapping.ipynb)\n",
                "\n",
                "## Schedule of Notebooks\n",
                "|\n",
                "Try to complete the following notebooks in the order listed below. Each notebook has an estimated duration.\n",
                "\n",
                "1. [Simulation Primer](./00-simulation-primer.ipynb) - **20 minutes**\n",
                "2. [Localisation](./01-localisation.ipynb) - **60 minutes**\n",
                "3. [Mapping](./02-mapping.ipynb) - **40 minutes**\n",
                "4. [Path Planning](./03-path-planning.ipynb) - **40 minutes**\n",
                "\n",
                "The second problem in navigation is to work out where you want to go. Mapping is the process of building a model of the world around you. This is a fundamental problem in robotics, and is paired with the problem of localization."
            ]
        },
        {
            "cell_type": "markdown",
            "metadata": {},
            "source": [
                "## Representing the world\n",
                "\n",
                "There are many ways to **represent the world**. For 2D environments, the most common is to use a `grid`. This is a 2D array of cells, where each cell represents a small area of the world. The value of each cell is a probability that the cell is occupied. This is called an ***occupancy grid***.\n",
                "\n",
                "In some situations it is more useful to represent the world as a set of features with relationships between them. This kind of map is called a `graph`. Graphs are useful for representing the topology of the world, and for representing the **relationships between objects** in the world.\n",
                "\n",
                "### Grid or Graph?\n",
                "\n",
                "Grids and graphs are both useful representations of the world. Grids are useful for representing the `geometry` of the world, and graphs are useful for representing the `topology` of the world. In practice, you will often use both representations at the same time. Grids are easy to use for `localization`, because you can easily compare the map to the sensor readings. Graphs are easy to use for `planning`, because you can easily find the shortest path between two points. Grids are **memory intensive**, because they require a lot of storage space. Graphs are **computationally intensive**, because they require a lot of computation to find the shortest path.\n",
                "\n",
                "The best approach is to use both representations at the same time, for example:\n",
                "\n",
                "- You could use a grid to represent the immediate surroundings of the robot\n",
                "- a graph to represent the topology of nearby landmarks\n",
                "- and another lower resolution grid to represent the topology of the whole world."
            ]
        },
        {
            "cell_type": "markdown",
            "metadata": {},
            "source": [
                "## The Mapping Procedure\n",
                "\n",
                "The first step to mapping is to make a measurement of the world. This could be a laser scan, a depth image, or a point cloud. The next step is to mark the measurement on a map. The challenge with this is deciding where to start drawing the measurement on the map. Since the measurement is relative to the robot, you need to know where the robot is on the map. This is the problem of localization. Unfortunately, the problem of localization is also the problem of mapping. This is a chicken and egg problem. You need to know where the robot is to draw the map, but you need to draw the map to know where the robot is.\n",
                "\n",
                "The solution is to use a probabilistic approach. You can start with a guess of where the robot is, and then update the guess as you make measurements. This is called a Bayes filter."
            ]
        },
        {
            "cell_type": "markdown",
            "metadata": {},
            "source": [
                "## Simultaneous Localization and Mapping\n",
                "\n",
                "Simultaneous Localization and Mapping (SLAM) is the problem of solving localization and mapping at the same time. This is a very difficult problem, and there are many different approaches to solving it."
            ]
        },
        {
            "cell_type": "markdown",
            "metadata": {},
            "source": [
                "### SLAM in Action\n",
                "\n",
                "There are many implementations of SLAM. In ROS there is a package called [gmapping](http://wiki.ros.org/gmapping) which implements a SLAM algorithm. This package takes laser scans as input, and outputs an occupancy grid map. The map is published as a ROS topic, and can be visualized using RViz.\n",
                "\n",
                "#### ***Try it out!***\n",
                "\n",
                "Let's try out the gmapping package. First, launch the gazebo simulation:\n",
                "\n",
                "> **Note:**\n",
                ">\n",
                "> **The following commands invoke a simulated environment and should be run on the computer, not the robot.**\n",
                "\n",
                "```bash\n",
                "# in a terminal on the computer\n",
                "roslaunch sphero_rvr_gazebo sphero_rvr_obstacles.launch\n",
                "```\n",
                "\n",
                "Then launch the gmapping package:\n",
                "\n",
                "```bash\n",
                "# in a terminal on the computer\n",
                "roslaunch sphero_rvr_navigation gmapping.launch\n",
                "```\n",
                "\n",
                "Drive the robot around the maze using teleop. You should see the map being built in RViz.\n",
                "\n",
                "```bash\n",
                "# in a terminal on the computer\n",
                "# display the map in rviz\n",
                "roslaunch sphero_rvr_desktop display.launch\n",
                "```"
            ]
        },
        {
            "cell_type": "markdown",
            "metadata": {},
            "source": [
                "## Goal"
            ]
        },
        {
            "cell_type": "markdown",
            "metadata": {},
            "source": [
                "### Map the environment\n",
                "\n",
                "The goal of this lab is to map the environment using the gmapping package.\n",
                "\n",
                "```bash\n",
                "# in a terminal on the computer\n",
                "# run the diff drive marker controls to drive the rover\n",
                "# this will allow you to drive the robot around the environment using the marker controls in rviz\n",
                "# and build the map in rviz as you drive around\n",
                "roslaunch sphero_rvr_controllers diff_drive_marker.launch\n",
                "```\n",
                "\n",
                "> **Note:**\n",
                ">\n",
                "> You can drive the robot around the environment using the marker controls. The map will be built in RViz as you drive around.\n",
                "\n",
                "<img src=\"./docs/images/diff-marker-rviz.png\" width=\"700\">"
            ]
        }
    ],
    "metadata": {
        "language_info": {
            "name": "python"
        }
    },
    "nbformat": 4,
    "nbformat_minor": 2
}
