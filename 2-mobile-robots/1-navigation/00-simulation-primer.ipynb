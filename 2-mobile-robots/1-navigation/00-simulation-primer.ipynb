{
    "cells": [
        {
            "cell_type": "markdown",
            "metadata": {},
            "source": [
                "# Simulation in Robotics\n",
                "\n",
                "[![nbviewer](https://raw.githubusercontent.com/jupyter/design/master/logos/Badges/nbviewer_badge.svg)](https://nbviewer.jupyter.org/github/CollaborativeRoboticsLab/foundations-of-robotics-labs/blob/master/2-mobile-robots/1-navigation/00-simluation-primer.ipynb)\n",
                "[![Binder](https://mybinder.org/badge_logo.svg)](https://mybinder.org/v2/gh/CollaborativeRoboticsLab/foundations-of-robotics-labs/master?filepath=2-mobile-robots/1-navigation/00-simluation-primer.ipynb)\n",
                "\n",
                "## Schedule of Notebooks\n",
                "\n",
                "Try to complete the following notebooks in the order listed below. Each notebook has an estimated duration.\n",
                "\n",
                "1. [Simulation Primer](./00-simulation-primer.ipynb) - **20 minutes**\n",
                "2. [Localisation](./01-localisation.ipynb) - **60 minutes**\n",
                "3. [Mapping](./02-mapping.ipynb) - **40 minutes**\n",
                "4. [Path Planning](./03-path-planning.ipynb) - **40 minutes**\n",
                "\n",
                "\n",
                "Simulations are a very important tool in robotics. They allow us to test our algorithms in a virtual environment before implementing them on a real robot. This is very useful because it allows us to test our algorithms in a safe environment and to iterate quickly, without having to wait for the robot to be ready or to be repaired after a crash."
            ]
        },
        {
            "cell_type": "markdown",
            "metadata": {},
            "source": [
                "## Gazebo Simulator\n",
                "\n",
                "In this course we will use the [Gazebo simulator](http://gazebosim.org/). Gazebo is a 3D simulator that allows us to simulate robots and environments. It is very powerful and can simulate many different types of robots and sensors. It is also open source and has a large community of users and developers.\n",
                "\n",
                "### Gazebo and ROS\n",
                "\n",
                "Gazebo is often used together with ROS and it is the default simulator in ROS. ROS provides a set of tools to interact with Gazebo.\n",
                "\n",
                "**Try it out!**\n",
                "\n",
                "```bash\n",
                "# Start a Gazebo-ROS simulation\n",
                "roslaunch sphero_rvr_gazebo sphero_rvr_gazebo.launch gui:=true\n",
                "```"
            ]
        },
        {
            "cell_type": "markdown",
            "metadata": {},
            "source": []
        }
    ],
    "metadata": {
        "language_info": {
            "name": "python"
        }
    },
    "nbformat": 4,
    "nbformat_minor": 2
}
