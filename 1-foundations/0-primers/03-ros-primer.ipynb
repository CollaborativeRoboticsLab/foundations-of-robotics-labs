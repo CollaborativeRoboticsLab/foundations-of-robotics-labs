{
    "cells": [
        {
            "cell_type": "markdown",
            "metadata": {},
            "source": [
                "# ROS Primer\n",
                "\n",
                "[![nbviewer](https://raw.githubusercontent.com/jupyter/design/master/logos/Badges/nbviewer_badge.svg)](https://nbviewer.jupyter.org/github/CollaborativeRoboticsLab/foundations-of-robotics-labs/blob/master/1-foundations/0-primers/03-ros-primer.ipynb)\n",
                "[![Binder](https://mybinder.org/badge_logo.svg)](https://mybinder.org/v2/gh/CollaborativeRoboticsLab/foundations-of-robotics-labs/master?filepath=1-foundations/0-primers/03-ros-primer.ipynb)\n",
                "\n",
                "## Schedule of Notebooks\n",
                "\n",
                "Try to complete the following notebooks in the order listed below. Each notebook has an estimated duration.\n",
                "\n",
                "1. [Python Primer](01-python-primer.ipynb) - **40 minutes**\n",
                "2. [Terminal Primer](./02-terminal-primer.ipynb) - **30 minutes**\n",
                "3. [ROS Primer](./03-ros-primer.ipynb) - **40 minutes**\n",
                "4. [Container Primer](./04-containers-primer.ipynb) - **5 minutes**"
            ]
        },
        {
            "cell_type": "markdown",
            "metadata": {},
            "source": [
                "The [Robot Operating System (ROS)](https://www.ros.org/) is a set of software `libraries` and tools that help you build robot applications. From drivers to state-of-the-art algorithms, and with powerful developer tools, ROS has what you need for your next robotics project. And it's all **open source**!\n",
                "\n",
                "<img src=\"https://www.ros.org/imgs/logo-white.png\" width=\"480\" alt=\"ROS Logo\" href=\"https://www.ros.org/\">\n",
                "\n",
                "## Contents\n",
                "\n",
                "1. [What is ROS?](#what-is-ros)\n",
                "2. [ROS Concepts](#ros-concepts)\n",
                "3. [ROS Tools](#ros-tools)\n",
                "4. [ROS Packages](#ros-packages)\n",
                "5. [Block Diagrams and Robot Architectures](#block-diagrams-and-robot-architectures)\n",
                "6. [A ROS-based Model for a Robot Application](#a-ros-based-model-for-a-robot-application)"
            ]
        },
        {
            "cell_type": "markdown",
            "metadata": {},
            "source": [
                "## What is ROS?\n",
                "\n",
                "`ROS` is a set of *software libraries and tools* that help you build robot applications. ROS is a *distributed framework* of processes (`nodes`) that work together passing information to complete robot tasks. These processes can be grouped into packages and distributed through a network of computers.\n",
                "\n",
                "***ROS Reinvents the wheel so you don't have to!***\n",
                "\n",
                "ROS is a collection of tools, libraries, and conventions to `simplify` creating complex and robust robot behavior for any robot. ROS provides a *client library* that helps write programs in a variety of `programming` languages. ROS also provides a set of tools that enable you to easily create, manage, and visualize the data flowing between programs. ROS is completely **open source** (BSD) and free to use, change, and commercialize upon.\n",
                "\n",
                "ROS is designed to be as platform-independent as possible. ROS is not an operating system in the traditional sense of process management and scheduling; rather, you can think of ROS as a meta-operating system that provides services on top of an existing operating system. ROS is similar to *'robot frameworks'* such as Player, YARP, Orocos, CARMEN, Orca, MOOS, and Microsoft Robotics Studio.\n",
                "\n",
                "> The ROS wiki contains a more detailed [introduction](http://wiki.ros.org/ROS/Introduction) to ROS."
            ]
        },
        {
            "cell_type": "markdown",
            "metadata": {},
            "source": [
                "Key features include:\n",
                "\n",
                "* **Distributed Communication:** Nodes communicate via various methods.\n",
                "* **Tools:** Command-line and graphical tools simplify running, visualizing, and interacting with nodes.\n",
                "* **Language Independence:** Supports multiple languages (C++, Python, etc.).\n",
                "* **Debugging Support:** Tools and libraries aid in visualizing, debugging, and testing.\n",
                "* **Open Source:** Free for commercial and research use (BSD license).\n",
                "* **Community & Ecosystem:** Large and active community with extensive packages and resources.\n",
                "* **Extensible:** Tools for creating and managing new packages.\n",
                "* **Robotics Data Types:** Standardized data types for common robotics concepts.\n",
                "* **Data Distribution:**  Uses topics and publish/subscribe for efficient data exchange."
            ]
        },
        {
            "cell_type": "markdown",
            "metadata": {},
            "source": [
                "## ROS Concepts\n",
                "\n",
                "### Nodes\n",
                "\n",
                "A `node` is an executable that uses ROS to communicate with other nodes.\n",
                "\n",
                "### Topics\n",
                "\n",
                "A `topic` is a named bus over which nodes exchange messages. Topics have anonymous publish/subscribe semantics, which decouples the production of information from its consumption. Nodes that are interested in data subscribe to the relevant topic; nodes that generate data publish to the relevant topic. There can be multiple publishers and subscribers to a topic.\n",
                "\n",
                "### Messages\n",
                "\n",
                "`Messages` are the payload of information that is sent and received via topics. Standard primitive types (integer, floating point, boolean, etc.) are supported, as are arrays of primitives. Messages can include nested types.\n",
                "\n",
                "### Services\n",
                "\n",
                "A `service` is like a topic but it is transactional. When a service is requested there is a response. Then the services is complete.\n",
                "\n",
                "### Actions\n",
                "\n",
                "An `action` is a special type of communication pattern for robotics combining a service and a topic. Actions are useful for goal(service) oriented tasks that may take a long time to complete, and for which feedback(topic) is useful.\n",
                "\n",
                "### Parameters\n",
                "\n",
                "A `parameter` is a piece of information that might be important to many nodes. It can be set globally and read by any node, which helps keep track of the state of the system."
            ]
        },
        {
            "cell_type": "markdown",
            "metadata": {},
            "source": [
                "---"
            ]
        },
        {
            "cell_type": "markdown",
            "metadata": {},
            "source": [
                "## ROS Command-line Tools\n",
                "\n",
                "ROS provides tools for working with robots. Command line tools are useful for managing the ROS environment, debugging, and testing. Common command line tools include:\n",
                "\n",
                "> Hint:\n",
                ">\n",
                "> To get started, we need to use `roscore`.\n",
                ">\n",
                "> `roscore` is the ROS1 communications broker.\n",
                "\n",
                "```bash\n",
                "# in a terminal run roscore\n",
                "roscore\n",
                "```"
            ]
        },
        {
            "cell_type": "markdown",
            "metadata": {},
            "source": [
                "#### rosrun\n",
                "\n",
                "The rosrun command allows you to run an executable in an arbitrary package without having to give its full path. For example, to run the turtlesim_node from the turtlesim package, you can use the following command:\n",
                "\n",
                "```bash\n",
                "# in a new terminal run turtlesim_node\n",
                "rosrun turtlesim turtlesim_node\n",
                "\n",
                "# ctrl+c to stop the node\n",
                "```"
            ]
        },
        {
            "cell_type": "markdown",
            "metadata": {},
            "source": [
                "\n",
                "### rosnode\n",
                "\n",
                "The rosnode command allows you to get information about running ROS nodes. For example, to get a list of all running nodes, you can use the following command:\n",
                "\n",
                "```bash\n",
                "# in a new terminal run the following command\n",
                "rosnode list\n",
                "```"
            ]
        },
        {
            "cell_type": "markdown",
            "metadata": {},
            "source": [
                "\n",
                "#### rostopic\n",
                "\n",
                "The rostopic command allows you to get information about ROS topics. For example, to get a list of all topics, you can use the following command:\n",
                "\n",
                "```bash\n",
                "# in the same terminal run the following command\n",
                "rostopic list\n",
                "```"
            ]
        },
        {
            "cell_type": "markdown",
            "metadata": {},
            "source": [
                "#### rosmsg\n",
                "The rosmsg command allows you to get information about ROS messages. For example, to get a list of all messages, you can use the following command:\n",
                "\n",
                "```bash\n",
                "# in the same terminal run the following command\n",
                "rosmsg list\n",
                "```"
            ]
        },
        {
            "cell_type": "markdown",
            "metadata": {},
            "source": [
                "## ROS Graphical Tools\n",
                "\n",
                "- [**RQT**](<https://wiki.ros.org/rqt>) is a series of small graphical tools using QT for visualizing and interacting with a ROS system. RQT plugins are available to visualize topics, services, actions, parameters, and more.\n",
                "- [**RViz**](<https://wiki.ros.org/rviz/UserGuide>) is a 3D visualization tool for ROS. RViz allows you to visualize sensor data, robot models, and other information.\n",
                "- [**Gazebo**](<https://gazebosim.org/home>) is a 3D simulation environment for ROS. Gazebo allows you to simulate robots in complex indoor and outdoor environments."
            ]
        }
    ],
    "metadata": {
        "language_info": {
            "name": "python"
        }
    },
    "nbformat": 4,
    "nbformat_minor": 2
}
