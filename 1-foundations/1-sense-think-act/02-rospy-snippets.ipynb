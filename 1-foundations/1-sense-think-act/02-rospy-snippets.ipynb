{
    "cells": [
        {
            "cell_type": "markdown",
            "metadata": {},
            "source": [
                "# rospy Snippets\n",
                "\n",
                "[![nbviewer](https://raw.githubusercontent.com/jupyter/design/master/logos/Badges/nbviewer_badge.svg)](https://nbviewer.jupyter.org/github/CollaborativeRoboticsLab/foundations-of-robotics-labs/blob/master/1-foundations/1-sense-think-act/02-rospy-snippets.ipynb)\n",
                "[![Binder](https://mybinder.org/badge_logo.svg)](https://mybinder.org/v2/gh/CollaborativeRoboticsLab/foundations-of-robotics-labs/master?filepath=1-foundations/1-sense-think-act/02-rospy-snippets.ipynb)\n",
                "\n",
                "The Sphero RVR is a great robot for learning some robotics, but how do we work with ROS? This tutorial will show you how to use snippets of ROS code using rospy in python to interact with the RVR.\n",
                "\n",
                "## Schedule of Notebooks\n",
                "\n",
                "Try to complete the following notebooks in the order listed below. Each notebook has an estimated duration.\n",
                "\n",
                "1. [Getting Started](./00-getting-started.ipynb) - **30 minutes**\n",
                "2. [ROS Tools](./01-ros-tooling.ipynb) - **30 minutes**\n",
                "3. [Rospy Snippets](./02-rospy-snippets.ipynb) - **60 minutes**\n",
                "4. [Assignment](./03-sta-assignment.ipynb) - **120 minutes**"
            ]
        },
        {
            "cell_type": "markdown",
            "metadata": {},
            "source": [
                "> **Note:**\n",
                "> \n",
                "> **This is the main resource to derive a solution for the lab assignment. You can use this notebook as a reference to complete the lab assignment.**\n",
                "\n",
                "### Testing the Snippets\n",
                "\n",
                "To test the snippets, you will need to have the RVR running. You will also need to have the `sphero_rvr_ros` package installed and running the main application stack.\n",
                "\n",
                "```bash\n",
                "# in a terminal on the raspberry pi onboard the RVR\n",
                "# as a reminder, you can run the main application stack with\n",
                "roslaunch sphero_rvr_bringup sphero_rvr_bringup.launch\n",
                "```\n",
                "\n",
                "> **Hints**\n",
                "> - You can then run the snippets directly in the jupyter notebook\n",
                "> - You can open terminals in jupyter environment by clicking `File > New > Terminal` in the top left corner of the jupyter notebook.\n",
                "> - **if you encounter errors when running the snippets, try restarting the python kernel in the jupyter notebook.**"
            ]
        },
        {
            "cell_type": "markdown",
            "metadata": {},
            "source": [
                "## Setting up different ROS Environments to Communicate\n",
                "\n",
                "> **NOTE:**\n",
                "> \n",
                "> We need to set up the ROS Master URI to be able to communicate with the RVR from our computer.\n",
                "> follow the instructions in the [ros tooling notebook](./01-ros-tooling.ipynb) to set up the ROS environment on the computer\n",
                "\n",
                "```bash\n",
                "# set the ROS_MASTER_URI to the RVR's IP address\n",
                "export ROS_MASTER_URI=http://<rvr_ip>:11311\n",
                "```\n",
                "\n",
                "The ROS Hostname is the IP address of the computer running the ROS Master. We need to set up the ROS Hostname to be able to communicate with the RVR.\n",
                "\n",
                "```bash\n",
                "# set the ROS_HOSTNAME to the IP address of the computer running the ROS Master\n",
                "export ROS_HOSTNAME=<your_ip>\n",
                "```"
            ]
        },
        {
            "cell_type": "markdown",
            "metadata": {},
            "source": [
                "## Setting up the remote ROS environment with Python\n",
                "\n",
                "The Jupyter Notebook is running on another computer. We need to tell the RVR where to send the ROS messages.\n",
                "\n",
                "**The following snippets will help python find the ROS environment and communicate with the RVR:**"
            ]
        },
        {
            "cell_type": "code",
            "execution_count": null,
            "metadata": {
                "tags": []
            },
            "outputs": [],
            "source": [
                "\"\"\"setting up ros enrionment variables\"\"\"\n",
                "\n",
                "# this set of lines is to make sure that the python scripts can find the ROS libraries\n",
                "import sys\n",
                "sys.path.append('/opt/ros/noetic/lib/python3/dist-packages')\n",
                "sys.path.append('/usr/lib/python3/dist-packages')\n",
                "\n",
                "import os\n",
                "\n",
                "#####################################################################\n",
                "# # !!!! DON'T FORGET TO CHANGE THIS TO THE ROBOT'S IP ADDRESS !!!! #\n",
                "#####################################################################\n",
                "\n",
                "# change the ROS environment variable to the robot's IP address\n",
                "ROBOT_HOSTNAME = '192.168.1.101' # for example, this could be an IP or a hostname depending on what is reachable on the network\n",
                "CONSOLE_HOSTNAME = '192.168.1.201' # for example, notice that this is the IP of the computer running this script not the robot\n",
                "\n",
                "# another example using hostnames is as follows\n",
                "# ROBOT_HOSTNAME = 'robotics1' # for example, this could be an IP or a hostname depending on what is reachable on the network\n",
                "# CONSOLE_HOSTNAME = 'group1' # for example, notice that this is the hostname of the computer running this script not the robot\n",
                "\n",
                "# the following lines set up the networking variables for the scripts to run properly\n",
                "os.environ['ROS_MASTER_URI'] = 'http://{}:11311'.format(ROBOT_HOSTNAME)\n",
                "os.environ['ROS_HOSTNAME'] = CONSOLE_HOSTNAME"
            ]
        },
        {
            "cell_type": "markdown",
            "metadata": {},
            "source": [
                "## Receiving Messages\n",
                "\n",
                "A core part of ROS programming is the use of ***`callback`*** functions. In ROS, A callback function is executed when a message is received on a topic. This is common place in many programs that perform communications. Messaging applications such as Messenger, Slack, or Discord also use a callback pattern pass to messages around the world.\n",
                "\n",
                "The following code snippet shows how to create a callback function, subscribe to a topic, and execute the callback function when a message is received."
            ]
        },
        {
            "cell_type": "code",
            "execution_count": null,
            "metadata": {
                "tags": []
            },
            "outputs": [],
            "source": [
                "\"\"\"receiving message data\"\"\"\n",
                "\n",
                "\n",
                "# import python libraries\n",
                "import rospy # ros library for python\n",
                "from sensor_msgs.msg import Imu # import the Imu message type definition\n",
                "\n",
                "\n",
                "# create a class to subscribe to sensor messages and show the data\n",
                "class SubscribeAndShowNode(object):\n",
                "    def __init__(self):\n",
                "        # subscribe to the topic ~imu from the rvr namespace\n",
                "        self.imu_sub = rospy.Subscriber('/rvr_driver/imu/data', Imu, self.callback)\n",
                "\n",
                "    # callback function to receive the data\n",
                "    def callback(self, msg):\n",
                "        # print the data received\n",
                "        print('IMU DATA FROM FRAME: {}'.format(msg.header.frame_id))\n",
                "\n",
                "# main function\n",
                "def main():\n",
                "    try:\n",
                "        # initialize the node with rospy\n",
                "        rospy.init_node('subscribe_and_show_node', anonymous=True)\n",
                "\n",
                "        # create an instance of the SubscribeAndShowNode class\n",
                "        # this will subscribe to the topic and show the data\n",
                "        sub_show_node = SubscribeAndShowNode()\n",
                "\n",
                "        # spin() simply keeps python from exiting until this node is stopped\n",
                "        rospy.spin()\n",
                "\n",
                "    except rospy.ROSInterruptException as e:\n",
                "        print(e)\n",
                "    finally:\n",
                "        print('Node has shutdown')\n",
                "\n",
                "print('the SubscribeAndShowNode class has been declared')"
            ]
        },
        {
            "cell_type": "markdown",
            "metadata": {},
            "source": [
                "#### Test out subscribing to a topic\n",
                "\n",
                "Run the following code snippet to see how to subscribe to a topic and print out the message. Inspect the ROS Network Graph to see the node that was created and the topic it is subscribing to.\n",
                "\n",
                "> **Tips**\n",
                ">\n",
                "> - The following cell will run forever. You can stop it by clicking the stop button in the toolbar at the top of the notebook.\n",
                ">\n",
                "> - **due to the implementation of rospy.init_node, the jupyter kernel needs to be restarted to create another node**."
            ]
        },
        {
            "cell_type": "code",
            "execution_count": null,
            "metadata": {},
            "outputs": [],
            "source": [
                "\"\"\"run the main function to start the node and test it\"\"\"\n",
                "main()"
            ]
        },
        {
            "cell_type": "markdown",
            "metadata": {},
            "source": [
                "## Sending Commands\n",
                "\n",
                "Sending commands in a ROS application is very similar to receiving messages but instead of receiving messages, you are sending them. Another component in the system will listen for and receive these messages. The following code snippet shows how to create a ***`publisher`***, publish a message, and shutdown the publisher."
            ]
        },
        {
            "cell_type": "code",
            "execution_count": null,
            "metadata": {
                "tags": []
            },
            "outputs": [],
            "source": [
                "\"\"\"sending commands to the robot to move it\"\"\"\n",
                "\n",
                "\n",
                "# import python libraries\n",
                "import rospy # ros library for python\n",
                "from geometry_msgs.msg import Twist # import the Twist message type definition\n",
                "\n",
                "\n",
                "# create a class to send commands to the robot\n",
                "class PublishTwistCommand(object):\n",
                "    # the constructor\n",
                "    # the default value for the angular speed is 0.0\n",
                "    # change this value when instantiating the class to make the robot turn\n",
                "    def __init__(self, angular_speed=0.0):\n",
                "        # create a publisher to send commands to the robot\n",
                "        self.cmd_vel_pub = rospy.Publisher('/cmd_vel', Twist, queue_size=10)\n",
                "\n",
                "        # create a Twist message\n",
                "        self.twist = Twist()\n",
                "\n",
                "        # create a rate to publish the data\n",
                "        self.rate = rospy.Rate(2)\n",
                "\n",
                "        # create a variable to hold the angular speed\n",
                "        self.angular_speed = angular_speed\n",
                "\n",
                "    def spin(self):\n",
                "        # print a message\n",
                "        print('starting the PublishTwistCommand node')\n",
                "\n",
                "        # loop until the node is shutdown\n",
                "        while not rospy.is_shutdown():\n",
                "            # set the linear and angular speeds in the Twist message\n",
                "            self.twist.linear.x = 0.0\n",
                "            self.twist.angular.z = self.angular_speed\n",
                "\n",
                "            # publish the Twist message\n",
                "            self.cmd_vel_pub.publish(self.twist)\n",
                "\n",
                "            # sleep for the remainder of the loop\n",
                "            self.rate.sleep()\n",
                "\n",
                "\n",
                "# main function\n",
                "def main():\n",
                "    try:\n",
                "        # initialize the node with rospy\n",
                "        rospy.init_node('publish_twist_command_node')\n",
                "\n",
                "        # create an instance of the PublishTwistCommand class\n",
                "        # this will publish the Twist message\n",
                "        ptc = PublishTwistCommand(1.0) # change the angular speed to make the robot turn\n",
                "\n",
                "        # this is an example of a manual loop in ROS\n",
                "        # this also keeps python from exiting until this node is stopped\n",
                "        # but it blocks execution until the node is stopped\n",
                "        ptc.spin()\n",
                "\n",
                "    except rospy.ROSInterruptException as e:\n",
                "        print(e)\n",
                "    finally:\n",
                "        # stop the robot when the node is stopped\n",
                "        # send a Twist message with linear and angular speeds set to 0.0\n",
                "        ptc.cmd_vel_pub.publish(Twist())\n",
                "        print('Node has shutdown')\n",
                "\n",
                "print('the PublishTwistCommand class has been declared')"
            ]
        },
        {
            "cell_type": "markdown",
            "metadata": {},
            "source": [
                "#### Test out publishing to a topic\n",
                "\n",
                "Run the following code snippet to see how to publish to a topic. Inspect the ROS Network Graph to see the node that was created and the topic it is publishing to."
            ]
        },
        {
            "cell_type": "code",
            "execution_count": null,
            "metadata": {
                "tags": []
            },
            "outputs": [],
            "source": [
                "# run the main function to start the node and test it\n",
                "main()"
            ]
        },
        {
            "cell_type": "markdown",
            "metadata": {},
            "source": [
                "## ROS-Style Loops\n",
                "\n",
                "In robotics it is common to have a loop of activities that runs continuously at regular intervals. This is often referred to as a loop in programming. The best practice for creating loops in a ROS application is to use a ***`Timer`***. The following code snippet shows how to create a ROS-Style loop using a ROS Timer."
            ]
        },
        {
            "cell_type": "code",
            "execution_count": null,
            "metadata": {
                "tags": []
            },
            "outputs": [],
            "source": [
                "\"\"\"timer based loop that cycles LED colours\"\"\"\n",
                "\n",
                "\n",
                "import rospy # ros library for python\n",
                "from std_msgs.msg import ColorRGBA # import the ColorRGBA message type definition\n",
                "import random # python library to generate random numbers\n",
                "\n",
                "\n",
                "# create a class to send commands to the robot\n",
                "class TimerBasedLoopNode():\n",
                "    def __init__(self):\n",
                "        # create a timer to call the callback function every 1 second\n",
                "        self.timer = rospy.Timer(rospy.Duration(1.0), self.callback)\n",
                "\n",
                "    # callback function to send commands to the robot\n",
                "    def callback(self, event):\n",
                "        # create a publisher to send commands to the robot\n",
                "        pub = rospy.Publisher('/rvr_driver/led/headlight', ColorRGBA, queue_size=10)\n",
                "\n",
                "        # create a message\n",
                "        msg = ColorRGBA()\n",
                "\n",
                "        # add a random colour to the message\n",
                "        msg.r = 255.0*random.random()\n",
                "        msg.g = 255.0*random.random()\n",
                "        msg.b = 255.0*random.random()\n",
                "        msg.a = 255.0\n",
                "\n",
                "        # publish the message\n",
                "        pub.publish(msg)\n",
                "\n",
                "\n",
                "# main function\n",
                "def main():\n",
                "    try:\n",
                "        # initialize the node with rospy\n",
                "        rospy.init_node('timer_based_loop_node')\n",
                "\n",
                "        # create an instance of the TimerBasedLoopNode class\n",
                "        # this will publish the ColorRGBA message\n",
                "        tbn = TimerBasedLoopNode()\n",
                "\n",
                "        # spin() simply keeps python from exiting until this node is stopped\n",
                "        rospy.spin()\n",
                "\n",
                "    except rospy.ROSInterruptException as e:\n",
                "        print(e)\n",
                "    finally:\n",
                "        print('Node has shutdown')\n",
                "\n",
                "print('the TimerBasedLoopNode class has been declared')"
            ]
        },
        {
            "cell_type": "markdown",
            "metadata": {},
            "source": [
                "#### Test out a ROS-Style Loop\n",
                "\n",
                "Run the following code snippet to see how to create a ROS-Style loop. Inspect the ROS Network Graph to see the node that was created and the topic it is publishing to."
            ]
        },
        {
            "cell_type": "code",
            "execution_count": null,
            "metadata": {
                "tags": []
            },
            "outputs": [],
            "source": [
                "# run the main function to start the node and test it\n",
                "main()"
            ]
        },
        {
            "cell_type": "markdown",
            "metadata": {},
            "source": [
                "## Putting it all together\n",
                "\n",
                "Now that we have seen how to receive messages, send commands, and create ROS-style loops, we can put it all together to create a simple ROS program. The following code snippet shows how to create a ROS node that receives messages from the RVR's colour sensor and sends commands to the RVR's LEDs."
            ]
        },
        {
            "cell_type": "code",
            "execution_count": null,
            "metadata": {},
            "outputs": [],
            "source": [
                "\"\"\"ROS node that cycles LED colours based on a colour sensor\"\"\"\n",
                "\n",
                "\n",
                "import rospy # ros library for python\n",
                "from std_msgs.msg import ColorRGBA # import the ColorRGBA message type definition\n",
                "\n",
                "\n",
                "# create a class to represent the ROS Node\n",
                "class ObservedColourProjectorNode():\n",
                "    def __init__(self):\n",
                "        # subscribe to the topic ~ground_color from the rvr namespace\n",
                "        self.ground_color_sub = rospy.Subscriber('/rvr_driver/ground_color', ColorRGBA, self.ground_color_cb)\n",
                "\n",
                "        # create a publisher to send commands to the robot\n",
                "        self.headlight_color_pub = rospy.Publisher('/rvr_driver/led/headlight', ColorRGBA, queue_size=10)\n",
                "\n",
                "        # create a timer to manage the state of the node\n",
                "        # (hint) Sometimes node logic is implemented in subscriber callbacks but this is not recommended if the logic is complex or time consuming.\n",
                "        # Timers are a better place to implement node logic.\n",
                "        # this is a typical place to see node logic such as state machines\n",
                "        self.timer = rospy.Timer(rospy.Duration(1.0), self.node_state_timer_cb)\n",
                "\n",
                "        # state variable to keep track of the current colour\n",
                "        self.current_color = ColorRGBA()\n",
                "\n",
                "    # callback function to receive the data\n",
                "    def ground_color_cb(self, msg):\n",
                "        # print the data received\n",
                "        print(rospy.get_caller_id() + ' COLOUR SENSOR DATA: {}, {}, {}, {}'.format(msg.r, msg.g, msg.b, msg.a))\n",
                "\n",
                "        # store the data in the state variable\n",
                "        self.current_color = msg\n",
                "\n",
                "    # timer callback function to manage the state of the node\n",
                "    def node_state_timer_cb(self, event):\n",
                "        # create a message\n",
                "        msg = ColorRGBA()\n",
                "\n",
                "        # add the current sensed colour to the message\n",
                "        msg.r = self.current_color.r\n",
                "        msg.g = self.current_color.g\n",
                "        msg.b = self.current_color.b\n",
                "        msg.a = 255.0\n",
                "\n",
                "        # publish the message\n",
                "        self.headlight_color_pub.publish(msg)\n",
                "\n",
                "\n",
                "# main function\n",
                "def main():\n",
                "    try:\n",
                "        # initialize the node with rospy\n",
                "        rospy.init_node('observed_colour_projector_node')\n",
                "\n",
                "        # create an instance of the ObservedColourProjectorNode class\n",
                "        # this will subscribe to the topic and show the data\n",
                "        ocpn = ObservedColourProjectorNode()\n",
                "\n",
                "        # spin() simply keeps python from exiting until this node is stopped\n",
                "        rospy.spin()\n",
                "\n",
                "    except rospy.ROSInterruptException as e:\n",
                "        print(e)\n",
                "    finally:\n",
                "        print('Node has shutdown')\n",
                "\n",
                "print('the ObservedColourProjectorNode class has been declared')"
            ]
        },
        {
            "cell_type": "markdown",
            "metadata": {},
            "source": [
                "#### Test out the ROS Program\n",
                "\n",
                "Run the following code snippet to see how to create a ROS program. Inspect the ROS Network Graph to see the node that was created and the topics it is subscribing and publishing to."
            ]
        },
        {
            "cell_type": "code",
            "execution_count": null,
            "metadata": {},
            "outputs": [],
            "source": [
                "# run the main function to start the node and test it\n",
                "main()"
            ]
        }
    ],
    "metadata": {
        "kernelspec": {
            "display_name": "Python 3 (ipykernel)",
            "language": "python",
            "name": "python3"
        },
        "language_info": {
            "codemirror_mode": {
                "name": "ipython",
                "version": 3
            },
            "file_extension": ".py",
            "mimetype": "text/x-python",
            "name": "python",
            "nbconvert_exporter": "python",
            "pygments_lexer": "ipython3",
            "version": "3.1.0"
        }
    },
    "nbformat": 4,
    "nbformat_minor": 4
}
