{
    "cells": [
        {
            "cell_type": "markdown",
            "metadata": {},
            "source": [
                "# Sphero RVR ROS - ROS Tools\n",
                "\n",
                "[![nbviewer](https://raw.githubusercontent.com/jupyter/design/master/logos/Badges/nbviewer_badge.svg)](https://nbviewer.jupyter.org/github/CollaborativeRoboticsLab/foundations-of-robotics-labs/blob/master/1-foundations/1-sense-think-act/01-ros-tooling.ipynb)\n",
                "[![Binder](https://mybinder.org/badge_logo.svg)](https://mybinder.org/v2/gh/CollaborativeRoboticsLab/foundations-of-robotics-labs/master?filepath=1-foundations/1-sense-think-act/01-ros-tooling.ipynb)\n",
                "\n",
                "The ROS ecosystem offers myriad tools to help robotics developers to work on and manage their robots. Some of these tools are presented to help later with interactiong with live ROS-based systems. There are also some helpful tools to network establish information underpinning many modern computing and communication systems - including ROS.\n",
                "\n",
                "> The purpose of this notebook is to introduce some of the tools that are commonly used in the ROS ecosystem. The tools are not exhaustive, but they are a good starting point for anyone who is new to ROS.\n",
                "\n",
                "## Schedule of Notebooks\n",
                "\n",
                "Try to complete the following notebooks in the order listed below. Each notebook has an estimated duration.\n",
                "\n",
                "1. [Getting Started](./00-getting-started.ipynb) - **30 minutes**\n",
                "2. [ROS Tools](./01-ros-tooling.ipynb) - **30 minutes**\n",
                "3. [Rospy Snippets](./02-rospy-snippets.ipynb) - **60 minutes**\n",
                "4. [Assignment](./03-sta-assignment.ipynb) - **120 minutes**"
            ]
        },
        {
            "cell_type": "markdown",
            "metadata": {},
            "source": [
                "---"
            ]
        },
        {
            "cell_type": "markdown",
            "metadata": {},
            "source": [
                "## Linux Network Tools - Brief\n",
                "\n",
                "Some network tools that are useful for debugging and monitoring network issues. These tools can help you to understand the network configuration and indentify some common issues encountered when starting up a ROS system.\n",
                "\n",
                "#### `ifconfig` / `ip`\n",
                "\n",
                "`ifconfig` is a command-line utility that is used to check and configure network interfaces. It is available in Unix-based operating systems and is used for network interface configuration. The `ip` command is a more modern replacement for `ifconfig` and is used to show or manipulate routing, devices, policy routing and tunnels.\n",
                "\n",
                "> You can use these tools to figure out the IP address of your computer and of the robot.\n",
                "\n",
                "```bash\n",
                "# some examples of how to use ifconfig and ip\n",
                "ifconfig # shows a list of all network interfaces\n",
                "\n",
                "ip addr show # shows a list of all network interfaces\n",
                "```\n",
                "\n",
                "#### `ping`\n",
                "\n",
                "`ping` is a computer network administration software utility used to test the reachability of a host on an Internet Protocol (IP) network. It measures the round-trip time for messages sent from the originating host to a destination computer that are echoed back to the source.\n",
                "\n",
                "> ping is a useful tool to check if a computer system is up, and if your computer can communicate with a robot, and vice versa.\n",
                "\n",
                "```bash\n",
                "# an example of how to use ping\n",
                "ping google.com # sends a ping request to google.com\n",
                "```\n",
                "\n",
                "#### `netstat`\n",
                "\n",
                "`netstat` is a command-line network utility that displays network connections for the Transmission Control Protocol (both incoming and outgoing), routing tables, and a number of network interface (network interface controller or software-defined network interface) and network protocol statistics.\n",
                "\n",
                "> In robotics, this tool can be used to understand what network connections and services are running on a robot.\n",
                "> \n",
                "> For example, you can use `netstat` to check if a robot is running a ROS master - this service will be present as a listening port (11311)\n",
                "\n",
                "```bash\n",
                "# an example of how to use netstat\n",
                "netstat -tuln # shows all listening ports\n",
                "```"
            ]
        },
        {
            "cell_type": "markdown",
            "metadata": {},
            "source": [
                "---"
            ]
        },
        {
            "cell_type": "markdown",
            "metadata": {},
            "source": [
                "## Setting up different ROS Environments to Communicate\n",
                "\n",
                "The Notebook is running an independant ROS environment. The RVR is also running an independant ROS environment, that it is not running on the same computer. This means that we need to set up our ROS environment to be able to communicate with the RVR using network communications.\n",
                "\n",
                "![machine network](./docs/images/machine-network.png)\n",
                "\n",
                "### Setting up the ROS Master URI\n",
                "\n",
                "The ROS Master is the central server that manages the communication between different ROS nodes. When we run the RVR application, we establish a ROS Master on the RVR.\n",
                "\n",
                "> Tip:\n",
                "> \n",
                "> We need to set up the ROS Master URI to be able to communicate with the RVR from our computer.\n",
                "\n",
                "```bash\n",
                "# set the ROS_MASTER_URI to the RVR's IP address\n",
                "export ROS_MASTER_URI=http://<rvr_ip>:11311\n",
                "```\n",
                "\n",
                "### Setting up the ROS Hostname\n",
                "\n",
                "The ROS Hostname is the IP address of the computer running the ROS Master. We need to set up the ROS Hostname to be able to communicate with the RVR.\n",
                "\n",
                "```bash\n",
                "# set the ROS_HOSTNAME to the IP address of the computer running the ROS Master\n",
                "export ROS_HOSTNAME=<your_ip>\n",
                "```\n",
                "\n",
                "### What this looks like on the RVR\n",
                "\n",
                "The RVR also uses this information to communicate with other ROS hosts. The RVR will have its own ROS Master URI and ROS Hostname set up. This is set in the user's `.bashrc` file.\n",
                "\n",
                "```bash\n",
                "# exerpt from the RVR's .bashrc file\n",
                "# set the ROS_MASTER_URI to the RVR's IP address\n",
                "export ROS_MASTER_URI=http://<rvr_ip>:11311\n",
                "export ROS_HOSTNAME=<rvr_ip>\n",
                "```\n",
                "\n",
                "This can be modified to change the ROS Master URI and ROS Hostname of the RVR. Use `nano` or `vim` to edit the `.bashrc` file.\n",
                "\n",
                "```bash\n",
                "nano ~/.bashrc\n",
                "\n",
                "# ctrl + o to save\n",
                "# ctrl + x to exit\n",
                "```"
            ]
        },
        {
            "cell_type": "markdown",
            "metadata": {},
            "source": [
                "---"
            ]
        },
        {
            "cell_type": "markdown",
            "metadata": {},
            "source": [
                "## Teleoperation\n",
                "\n",
                "Teleoperation is the process of controlling a robot from a distance. In the context of ROS, teleoperation is the process of controlling a robot using a computer. The `teleop_twist_keyboard` package is a ROS package that allows you to control a robot using the keyboard. It publishes `geometry_msgs/Twist` messages to the `/cmd_vel` topic.\n",
                "\n",
                "> **Tip:**\n",
                ">\n",
                "> - make sure that the `rvr bringup` is running on the RVR!\n",
                "> - We can use the `teleop_twist_keyboard` package as a quick way to control the RVR using the keyboard"
            ]
        },
        {
            "cell_type": "markdown",
            "metadata": {},
            "source": [
                "### Run the teleop_twist_keyboard package\n",
                "\n",
                "To run the `teleop_twist_keyboard` package, you can use the following command:\n",
                "\n",
                "```bash\n",
                "# don't forget to run the control application on the rover\n",
                "# roslaunch sphero_rvr_bringup sphero_rvr_bringup.launch\n",
                "\n",
                "# in a terminal on the RVR\n",
                "rosrun teleop_twist_keyboard teleop_twist_keyboard.py\n",
                "```\n",
                "\n",
                "You can then use the following keys to control the robot:\n",
                "\n",
                "- `i`: move forward\n",
                "- `,`: move backward\n",
                "- `j`: turn left\n",
                "- `l`: turn right\n",
                "- `u`: move diagonally forward and to the left\n",
                "- `o`: move diagonally forward and to the right\n",
                "- `m`: move diagonally backward and to the left\n",
                "- `.`: move diagonally backward and to the right\n",
                "- `k`: stop"
            ]
        },
        {
            "cell_type": "markdown",
            "metadata": {},
            "source": [
                "### Drive the RVR using differntial drive markers\n",
                "\n",
                "You can also use the `rviz` tool to drive the RVR using the `diff drive twist controller` markers. To do so, you can use the following command:\n",
                "\n",
                "```bash\n",
                "# don't forget to run the control application on the rover\n",
                "# roslaunch sphero_rvr_bringup sphero_rvr_bringup.launch\n",
                "\n",
                "# in a terminal on the remote laptop to run rviz preconfigured for the RVR\n",
                "roslaunch sphero_rvr_desktop display.launch\n",
                "\n",
                "# in a terminal on the RVR to run the diff drive marker\n",
                "roslaunch sphero_rvr_controllers diff_drive_marker.launch\n",
                "```\n",
                "\n",
                "Grab the `diff drive` marker and move it around to drive the RVR."
            ]
        },
        {
            "cell_type": "markdown",
            "metadata": {},
            "source": [
                "#### RViz View\n",
                "\n",
                "![diff_drive_marker](./docs/images/diff-marker-rviz.png)"
            ]
        },
        {
            "cell_type": "markdown",
            "metadata": {},
            "source": []
        }
    ],
    "metadata": {
        "kernelspec": {
            "display_name": "Python 3 (ipykernel)",
            "language": "python",
            "name": "python3"
        },
        "language_info": {
            "codemirror_mode": {
                "name": "ipython",
                "version": 3
            },
            "file_extension": ".py",
            "mimetype": "text/x-python",
            "name": "python",
            "nbconvert_exporter": "python",
            "pygments_lexer": "ipython3",
            "version": "3.10.6"
        }
    },
    "nbformat": 4,
    "nbformat_minor": 4
}
